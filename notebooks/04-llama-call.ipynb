{
 "cells": [
  {
   "cell_type": "code",
   "execution_count": null,
   "metadata": {},
   "outputs": [],
   "source": [
    "import boto3\n",
    "import json\n",
    "\n",
    "ENDPOINT_NAME = 'jumpstart-dft-meta-textgeneration-llama-2-7b-f'\n",
    "custom_attributes='accept_eula=true'\n",
    "json_body = {\n",
    " \"inputs\": [\n",
    "  [\n",
    "   {\"role\": \"system\", \"content\": \"You are chat bot who writes songs\"},\n",
    "   {\"role\": \"user\", \"content\": \"Write a rap about Barbie\"}\n",
    "  ]\n",
    " ],\n",
    " \"parameters\": {\"max_new_tokens\":256, \"top_p\":0.9, \"temperature\":0.6}\n",
    "}\n",
    "\n",
    "smr_client = boto3.client('sagemaker-runtime')\n",
    "\n",
    "\n",
    "response = smr_client.invoke_endpoint(EndpointName=ENDPOINT_NAME,\n",
    "                                    ContentType='application/json',\n",
    "                                    Body=json.dumps(json_body),\n",
    "                                    CustomAttributes=\"accept_eula=true\")\n",
    "\n",
    "result = json.loads(response['Body'].read().decode())"
   ]
  }
 ],
 "metadata": {
  "language_info": {
   "name": "python"
  },
  "orig_nbformat": 4
 },
 "nbformat": 4,
 "nbformat_minor": 2
}
