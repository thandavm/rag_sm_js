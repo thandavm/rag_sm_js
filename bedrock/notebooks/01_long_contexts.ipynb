{
 "cells": [
  {
   "cell_type": "markdown",
   "metadata": {},
   "source": [
    "# Showcasing Large Prompt Lengths with Claude on Amazon Bedrock"
   ]
  },
  {
   "cell_type": "markdown",
   "metadata": {},
   "source": [
    "## Setup the environment"
   ]
  },
  {
   "cell_type": "code",
   "execution_count": 1,
   "metadata": {},
   "outputs": [
    {
     "name": "stdout",
     "output_type": "stream",
     "text": [
      "Collecting PyPDF2\n",
      "  Using cached pypdf2-3.0.1-py3-none-any.whl (232 kB)\n",
      "Installing collected packages: PyPDF2\n",
      "Successfully installed PyPDF2-3.0.1\n",
      "Note: you may need to restart the kernel to use updated packages.\n",
      "Requirement already satisfied: boto3 in /Users/thandavm/anaconda3/lib/python3.11/site-packages (1.28.62)\n",
      "Requirement already satisfied: botocore<1.32.0,>=1.31.62 in /Users/thandavm/anaconda3/lib/python3.11/site-packages (from boto3) (1.31.62)\n",
      "Requirement already satisfied: jmespath<2.0.0,>=0.7.1 in /Users/thandavm/anaconda3/lib/python3.11/site-packages (from boto3) (1.0.1)\n",
      "Requirement already satisfied: s3transfer<0.8.0,>=0.7.0 in /Users/thandavm/anaconda3/lib/python3.11/site-packages (from boto3) (0.7.0)\n",
      "Requirement already satisfied: python-dateutil<3.0.0,>=2.1 in /Users/thandavm/anaconda3/lib/python3.11/site-packages (from botocore<1.32.0,>=1.31.62->boto3) (2.8.2)\n",
      "Requirement already satisfied: urllib3<2.1,>=1.25.4 in /Users/thandavm/anaconda3/lib/python3.11/site-packages (from botocore<1.32.0,>=1.31.62->boto3) (2.0.6)\n",
      "Requirement already satisfied: six>=1.5 in /Users/thandavm/anaconda3/lib/python3.11/site-packages (from python-dateutil<3.0.0,>=2.1->botocore<1.32.0,>=1.31.62->boto3) (1.16.0)\n",
      "Note: you may need to restart the kernel to use updated packages.\n"
     ]
    }
   ],
   "source": [
    "%pip install PyPDF2\n",
    "%pip install --upgrade boto3"
   ]
  },
  {
   "cell_type": "code",
   "execution_count": 2,
   "metadata": {},
   "outputs": [],
   "source": [
    "import boto3\n",
    "import json\n",
    "import PyPDF2"
   ]
  },
  {
   "cell_type": "code",
   "execution_count": 3,
   "metadata": {},
   "outputs": [],
   "source": [
    "bedrock = boto3.client(service_name='bedrock-runtime', region_name='us-east-1')"
   ]
  },
  {
   "cell_type": "markdown",
   "metadata": {},
   "source": [
    "## Read in a book into memory for summarization"
   ]
  },
  {
   "cell_type": "code",
   "execution_count": 4,
   "metadata": {},
   "outputs": [],
   "source": [
    "# Open the PDF file in binary mode\n",
    "with open('The-Great-Gatsby.pdf', 'rb') as pdf_file:\n",
    "    # Create a PDF reader object\n",
    "    pdf_reader = PyPDF2.PdfReader(pdf_file)\n",
    "\n",
    "    # Initialize an empty string to store the text\n",
    "    text = \"\"\n",
    "\n",
    "    # Iterate through each page in the PDF\n",
    "    for page in pdf_reader.pages:\n",
    "        # Extract text from the page\n",
    "        page_text = page.extract_text()\n",
    "\n",
    "        # Append the text from this page to the overall text\n",
    "        text += page_text\n",
    "\n",
    "# Now, 'text' contains the text extracted from the PDF\n",
    "book = text.replace('\\n', ' ')\n"
   ]
  },
  {
   "cell_type": "markdown",
   "metadata": {},
   "source": [
    "## Check the number of words in the book"
   ]
  },
  {
   "cell_type": "code",
   "execution_count": 5,
   "metadata": {},
   "outputs": [
    {
     "name": "stdout",
     "output_type": "stream",
     "text": [
      "Our book has 48064 words which equates roughly to 64069 tokens\n"
     ]
    }
   ],
   "source": [
    "words = len(text.split(' '))\n",
    "print(f'Our book has {words} words which equates roughly to {words*1.333:.0f} tokens')"
   ]
  },
  {
   "cell_type": "markdown",
   "metadata": {},
   "source": [
    "## Summarize the book with a single prompt with Claude"
   ]
  },
  {
   "cell_type": "code",
   "execution_count": 6,
   "metadata": {},
   "outputs": [
    {
     "name": "stdout",
     "output_type": "stream",
     "text": [
      " Here are the key points I picked up from reading The Great Gatsby:\n",
      "\n",
      "- The story is narrated by Nick Carraway, a Yale graduate who moves to New York to learn about bond business. He rents a house in West Egg next to Jay Gatsby. \n",
      "\n",
      "- Gatsby is a mysterious man who throws lavish parties every weekend but no one knows where he comes from or what he does. \n",
      "\n",
      "- Nick's cousin Daisy Buchanan is married to Tom Buchanan, a wealthy man. Daisy and Gatsby had a romantic relationship years ago before she married Tom.\n",
      "\n",
      "- Gatsby is secretly in love with Daisy and is trying to win her back. He buys a mansion across the bay from her house, hoping to attract her attention. \n",
      "\n",
      "- One day Nick invites Daisy to tea at Gatsby's house. This is the first time they see each other in years. It's clear they still have strong feelings for each other. \n",
      "\n",
      "- Tom grows suspicious of Daisy and Gatsby's relationship. At a confrontation at Tom and Daisy's house, Gatsby admits he's in love with Daisy. \n",
      "\n",
      "- Daisy's husband George Wilson's wife Myrtle is having an affair with Tom. During a fight between Tom and George, Myrtle is accidentally hit and killed by Gatsby's car, which Daisy is driving. \n",
      "\n",
      "- George wrongly thinks Gatsby was the one having an affair with his wife and kills Gatsby before killing himself. \n",
      "\n",
      "- In the end, both Daisy and Tom abandon Gatsby after he is killed, showing the shallow and fleeting nature of the rich lifestyles in the 1920s.\n",
      "\n",
      "The story explores themes of disillusionment after WW1, the emptiness of the pursuit of wealth, and the impossibility of recapturing the past. It's considered a great American novel.\n"
     ]
    }
   ],
   "source": [
    "prompt =f'''Human: Summarize the plot of this book.\n",
    "\n",
    "<book>\n",
    "{book}\n",
    "</book>\n",
    "\n",
    "Assistant:'''\n",
    "\n",
    "body = json.dumps({\n",
    "    \"prompt\": prompt,\n",
    "    \"max_tokens_to_sample\": 1000,\n",
    "    \"temperature\": 0.0,\n",
    "    \"top_p\": 0.9,\n",
    "})\n",
    "\n",
    "response = bedrock.invoke_model(\n",
    "    body=body, modelId='anthropic.claude-instant-v1', accept='application/json', contentType='application/json'\n",
    ")\n",
    "\n",
    "response_body = json.loads(response.get('body').read())\n",
    "print(response_body.get('completion'))"
   ]
  },
  {
   "cell_type": "code",
   "execution_count": null,
   "metadata": {},
   "outputs": [],
   "source": []
  }
 ],
 "metadata": {
  "kernelspec": {
   "display_name": "isengard",
   "language": "python",
   "name": "python3"
  },
  "language_info": {
   "codemirror_mode": {
    "name": "ipython",
    "version": 3
   },
   "file_extension": ".py",
   "mimetype": "text/x-python",
   "name": "python",
   "nbconvert_exporter": "python",
   "pygments_lexer": "ipython3",
   "version": "3.11.5"
  },
  "orig_nbformat": 4
 },
 "nbformat": 4,
 "nbformat_minor": 2
}
